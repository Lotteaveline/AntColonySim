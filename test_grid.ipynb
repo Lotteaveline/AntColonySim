{
 "cells": [
  {
   "cell_type": "code",
   "execution_count": 1,
   "metadata": {
    "collapsed": true
   },
   "outputs": [],
   "source": [
    "import numpy as np\n",
    "import random\n",
    "import matplotlib as mpl\n",
    "import matplotlib.pyplot as plt\n",
    "from matplotlib import cm\n",
    "from numpy.random import choice\n",
    "import copy\n",
    "from matplotlib import cm\n",
    "import matplotlib\n",
    "import matplotlib.image as mpimg\n",
    "import matplotlib.animation as animation\n",
    "from IPython.display import HTML  # for embedded matplotlib animation\n",
    "from math import *\n",
    "import queue\n",
    "\n",
    "matplotlib.rc('animation', html='html5')"
   ]
  },
  {
   "cell_type": "code",
   "execution_count": 2,
   "metadata": {
    "collapsed": true
   },
   "outputs": [],
   "source": [
    "class Ant:\n",
    "    \n",
    "    def __init__(self, kind, create_location):\n",
    "        self.location = create_location\n",
    "        self.origin = create_location\n",
    "        \n",
    "        # Queue to keep track of the steps an ant needs to make\n",
    "        self.nextSteps = queue.Queue()\n",
    "        self.kind = kind\n",
    "    \n",
    "    def getKind(self):\n",
    "        return self.kind\n",
    "        \n",
    "    def changeLocation(self, coord):\n",
    "        self.location = coord\n",
    "        \n",
    "    def getLocation(self):\n",
    "        return self.location\n",
    "        \n",
    "    def changeOrigin(self, coord):\n",
    "        self.origin = coord\n",
    "        \n",
    "    def getOrigin(self):\n",
    "        return self.origin\n",
    "        \n",
    "    def addNextStep(self, nextCoord):\n",
    "        self.nextSteps.put(nextCoord)\n",
    "    \n",
    "    # nextSteps.get removes the first element from the queue and returns it.\n",
    "    # Therefore, when a step gets made it gets automatically removed from the queue\n",
    "    def setStep(self):\n",
    "        step = self.nextSteps.get()\n",
    "        self.location = step\n",
    "        \n",
    "    def noNextSteps(self):\n",
    "        return self.nextSteps.empty()\n",
    "\n",
    "        \n",
    "    def findShortestPath(self, targetCoord, origin):\n",
    "        x = origin[0]\n",
    "        y = origin[1]\n",
    "\n",
    "        x_new = x\n",
    "        y_new = y\n",
    "\n",
    "        x_target = targetCoord[0]\n",
    "        y_target = targetCoord[1]\n",
    "\n",
    "        dx = x_target - x\n",
    "        dy = y_target - y\n",
    "\n",
    "        # Three possibilities: ant is on the same x or y coordinate, in which case it\n",
    "        # can walk back in a straight line.\n",
    "        # Or the x-distance is the same as the y-distance, in whcih case the ant can \n",
    "        # walk back in diagonal line.\n",
    "        # Else, the ant should walk back in a partly diagonal, partly straight line.\n",
    "        l = []\n",
    "\n",
    "        while x != x_target or y != y_target:\n",
    "            if x == x_target:\n",
    "                y_new += dy / np.abs(dy)\n",
    "                self.nextSteps.put((x_new, y_new))\n",
    "                y = y_new\n",
    "                continue\n",
    "\n",
    "            if np.abs(dx) == np.abs(dy):\n",
    "                x_new += dx / np.abs(dx)\n",
    "                y_new += dx / np.abs(dy)\n",
    "                self.nextSteps.put((x_new, y_new))\n",
    "                x = x_new\n",
    "                y = y_new\n",
    "                continue\n",
    "\n",
    "            while y != y_target:\n",
    "                x_new += dx / np.abs(dx)\n",
    "                y_new += dy / np.abs(dy)\n",
    "                self.nextSteps.put((x_new, y_new))\n",
    "                x = x_new\n",
    "                y = y_new\n",
    "                \n",
    "            x_new += dx / np.abs(dx)\n",
    "            self.nextSteps.put((x_new, y_new))\n",
    "            x = x_new\n",
    "        "
   ]
  },
  {
   "cell_type": "code",
   "execution_count": 7,
   "metadata": {},
   "outputs": [
    {
     "data": {
      "image/png": "[encoded data removed]",
      "text/plain": [
       "<matplotlib.figure.Figure at 0x7f38df5c6b38>"
      ]
     },
     "metadata": {},
     "output_type": "display_data"
    },
    {
     "name": "stdout",
     "output_type": "stream",
     "text": [
      "5.0\n"
     ]
    },
    {
     "data": {
      "image/png": "[encoded data removed]",
      "text/plain": [
       "<matplotlib.figure.Figure at 0x7f38e18528d0>"
      ]
     },
     "metadata": {},
     "output_type": "display_data"
    },
    {
     "name": "stdout",
     "output_type": "stream",
     "text": [
      "5.0\n",
      "5.0\n"
     ]
    },
    {
     "data": {
      "image/png": "[encoded data removed]",
      "text/plain": [
       "<matplotlib.figure.Figure at 0x7f38df6ce080>"
      ]
     },
     "metadata": {},
     "output_type": "display_data"
    },
    {
     "name": "stdout",
     "output_type": "stream",
     "text": [
      "5.0\n",
      "5.0\n"
     ]
    },
    {
     "data": {
      "image/png": "[encoded data removed]",
      "text/plain": [
       "<matplotlib.figure.Figure at 0x7f38df63a630>"
      ]
     },
     "metadata": {},
     "output_type": "display_data"
    },
    {
     "name": "stdout",
     "output_type": "stream",
     "text": [
      "5.0\n",
      "5.0\n"
     ]
    },
    {
     "data": {
      "image/png": "[encoded data removed]",
      "text/plain": [
       "<matplotlib.figure.Figure at 0x7f38df276320>"
      ]
     },
     "metadata": {},
     "output_type": "display_data"
    },
    {
     "name": "stdout",
     "output_type": "stream",
     "text": [
      "5.0\n",
      "5.0\n"
     ]
    },
    {
     "data": {
      "image/png": "[encoded data removed]",
      "text/plain": [
       "<matplotlib.figure.Figure at 0x7f38df708a58>"
      ]
     },
     "metadata": {},
     "output_type": "display_data"
    },
    {
     "name": "stdout",
     "output_type": "stream",
     "text": [
      "5.0\n",
      "5.0\n"
     ]
    },
    {
     "data": {
      "image/png": "[encoded data removed]",
      "text/plain": [
       "<matplotlib.figure.Figure at 0x7f38df65e400>"
      ]
     },
     "metadata": {},
     "output_type": "display_data"
    },
    {
     "name": "stdout",
     "output_type": "stream",
     "text": [
      "5.5966145957989255\n",
      "5.0\n"
     ]
    },
    {
     "data": {
      "image/png": "[encoded data removed]",
      "text/plain": [
       "<matplotlib.figure.Figure at 0x7f38df57cb00>"
      ]
     },
     "metadata": {},
     "output_type": "display_data"
    },
    {
     "name": "stdout",
     "output_type": "stream",
     "text": [
      "5.0\n",
      "5.0\n"
     ]
    },
    {
     "data": {
      "image/png": "[encoded data removed]",
      "text/plain": [
       "<matplotlib.figure.Figure at 0x7f38e180e5c0>"
      ]
     },
     "metadata": {},
     "output_type": "display_data"
    },
    {
     "name": "stdout",
     "output_type": "stream",
     "text": [
      "5.0\n",
      "5.0\n"
     ]
    },
    {
     "data": {
      "image/png": "[encoded data removed]",
      "text/plain": [
       "<matplotlib.figure.Figure at 0x7f38df39ceb8>"
      ]
     },
     "metadata": {},
     "output_type": "display_data"
    },
    {
     "name": "stdout",
     "output_type": "stream",
     "text": [
      "5.0\n",
      "5.0\n"
     ]
    },
    {
     "data": {
      "image/png": "[encoded data removed]",
      "text/plain": [
       "<matplotlib.figure.Figure at 0x7f38df39c9e8>"
      ]
     },
     "metadata": {},
     "output_type": "display_data"
    },
    {
     "name": "stdout",
     "output_type": "stream",
     "text": [
      "5.0\n",
      "5.0\n"
     ]
    },
    {
     "data": {
      "image/png": "[encoded data removed]",
      "text/plain": [
       "<matplotlib.figure.Figure at 0x7f38e1852898>"
      ]
     },
     "metadata": {},
     "output_type": "display_data"
    },
    {
     "name": "stdout",
     "output_type": "stream",
     "text": [
      "5.0\n",
      "5.0\n"
     ]
    },
    {
     "data": {
      "image/png": "[encoded data removed]",
      "text/plain": [
       "<matplotlib.figure.Figure at 0x7f38e17ce278>"
      ]
     },
     "metadata": {},
     "output_type": "display_data"
    },
    {
     "name": "stdout",
     "output_type": "stream",
     "text": [
      "5.0\n",
      "5.0\n"
     ]
    },
    {
     "data": {
      "image/png": "[encoded data removed]",
      "text/plain": [
       "<matplotlib.figure.Figure at 0x7f38df48e240>"
      ]
     },
     "metadata": {},
     "output_type": "display_data"
    },
    {
     "name": "stdout",
     "output_type": "stream",
     "text": [
      "5.0\n",
      "5.0\n"
     ]
    },
    {
     "data": {
      "image/png": "[encoded data removed]",
      "text/plain": [
       "<matplotlib.figure.Figure at 0x7f38df6d5198>"
      ]
     },
     "metadata": {},
     "output_type": "display_data"
    },
    {
     "name": "stdout",
     "output_type": "stream",
     "text": [
      "5.0\n",
      "5.0\n"
     ]
    },
    {
     "data": {
      "image/png": "[encoded data removed]",
      "text/plain": [
       "<matplotlib.figure.Figure at 0x7f38df623898>"
      ]
     },
     "metadata": {},
     "output_type": "display_data"
    },
    {
     "name": "stdout",
     "output_type": "stream",
     "text": [
      "5.0\n",
      "5.0\n"
     ]
    },
    {
     "data": {
      "image/png": "[encoded data removed]",
      "text/plain": [
       "<matplotlib.figure.Figure at 0x7f38df575dd8>"
      ]
     },
     "metadata": {},
     "output_type": "display_data"
    },
    {
     "name": "stdout",
     "output_type": "stream",
     "text": [
      "5.642824345481159\n",
      "5.0\n"
     ]
    },
    {
     "data": {
      "image/png": "[encoded data removed]",
      "text/plain": [
       "<matplotlib.figure.Figure at 0x7f38df73ae48>"
      ]
     },
     "metadata": {},
     "output_type": "display_data"
    },
    {
     "name": "stdout",
     "output_type": "stream",
     "text": [
      "5.0\n",
      "5.0\n"
     ]
    },
    {
     "data": {
      "image/png": "[encoded data removed]",
      "text/plain": [
       "<matplotlib.figure.Figure at 0x7f38df4556a0>"
      ]
     },
     "metadata": {},
     "output_type": "display_data"
    },
    {
     "name": "stdout",
     "output_type": "stream",
     "text": [
      "5.0\n",
      "5.0\n"
     ]
    },
    {
     "data": {
      "image/png": "[encoded data removed]",
      "text/plain": [
       "<matplotlib.figure.Figure at 0x7f38df33d630>"
      ]
     },
     "metadata": {},
     "output_type": "display_data"
    },
    {
     "name": "stdout",
     "output_type": "stream",
     "text": [
      "1005.0\n",
      "5.0\n"
     ]
    },
    {
     "data": {
      "image/png": "[encoded data removed]",
      "text/plain": [
       "<matplotlib.figure.Figure at 0x7f38df537518>"
      ]
     },
     "metadata": {},
     "output_type": "display_data"
    },
    {
     "name": "stdout",
     "output_type": "stream",
     "text": [
      "5.0\n",
      "5.0\n"
     ]
    },
    {
     "data": {
      "image/png": "[encoded data removed]",
      "text/plain": [
       "<matplotlib.figure.Figure at 0x7f38df357668>"
      ]
     },
     "metadata": {},
     "output_type": "display_data"
    },
    {
     "name": "stdout",
     "output_type": "stream",
     "text": [
      "5.0\n",
      "5.0\n"
     ]
    },
    {
     "data": {
      "image/png": "[encoded data removed]",
      "text/plain": [
       "<matplotlib.figure.Figure at 0x7f38df374d68>"
      ]
     },
     "metadata": {},
     "output_type": "display_data"
    },
    {
     "name": "stdout",
     "output_type": "stream",
     "text": [
      "5.0\n",
      "5.0\n"
     ]
    },
    {
     "data": {
      "image/png": "[encoded data removed]",
      "text/plain": [
       "<matplotlib.figure.Figure at 0x7f38e17f1278>"
      ]
     },
     "metadata": {},
     "output_type": "display_data"
    },
    {
     "name": "stdout",
     "output_type": "stream",
     "text": [
      "5.0\n",
      "5.0\n"
     ]
    },
    {
     "data": {
      "image/png": "[encoded data removed]",
      "text/plain": [
       "<matplotlib.figure.Figure at 0x7f38df683a20>"
      ]
     },
     "metadata": {},
     "output_type": "display_data"
    },
    {
     "name": "stdout",
     "output_type": "stream",
     "text": [
      "5.0\n",
      "5.0\n"
     ]
    },
    {
     "data": {
      "image/png": "[encoded data removed]",
      "text/plain": [
       "<matplotlib.figure.Figure at 0x7f38df2a5630>"
      ]
     },
     "metadata": {},
     "output_type": "display_data"
    },
    {
     "name": "stdout",
     "output_type": "stream",
     "text": [
      "5.0\n",
      "5.0\n"
     ]
    },
    {
     "data": {
      "image/png": "[encoded data removed]",
      "text/plain": [
       "<matplotlib.figure.Figure at 0x7f38df21c8d0>"
      ]
     },
     "metadata": {},
     "output_type": "display_data"
    },
    {
     "name": "stdout",
     "output_type": "stream",
     "text": [
      "[<__main__.Ant object at 0x7f38df5c6908>, <__main__.Ant object at 0x7f38df699978>]\n",
      "[<__main__.Ant object at 0x7f38df699978>]\n"
     ]
    },
    {
     "data": {
      "image/png": "[encoded data removed]",
      "text/plain": [
       "<matplotlib.figure.Figure at 0x7f38e1852dd8>"
      ]
     },
     "metadata": {},
     "output_type": "display_data"
    },
    {
     "name": "stdout",
     "output_type": "stream",
     "text": [
      "5.0\n",
      "5.6554129382225184\n"
     ]
    },
    {
     "data": {
      "image/png": "[encoded data removed]",
      "text/plain": [
       "<matplotlib.figure.Figure at 0x7f38df263a90>"
      ]
     },
     "metadata": {},
     "output_type": "display_data"
    },
    {
     "name": "stdout",
     "output_type": "stream",
     "text": [
      "5.0\n",
      "5.142183134489691\n",
      "5.165560576329608\n"
     ]
    },
    {
     "data": {
      "image/png": "[encoded data removed]",
      "text/plain": [
       "<matplotlib.figure.Figure at 0x7f38df560fd0>"
      ]
     },
     "metadata": {},
     "output_type": "display_data"
    },
    {
     "name": "stdout",
     "output_type": "stream",
     "text": [
      "5.0\n",
      "5.546145034341418\n",
      "5.214395716091796\n",
      "5.8566800445993765\n"
     ]
    },
    {
     "data": {
      "image/png": "[encoded data removed]",
      "text/plain": [
       "<matplotlib.figure.Figure at 0x7f38df59ae10>"
      ]
     },
     "metadata": {},
     "output_type": "display_data"
    },
    {
     "name": "stdout",
     "output_type": "stream",
     "text": [
      "5.0\n",
      "5.496560634897638\n",
      "5.219005237949183\n",
      "5.916190539547665\n"
     ]
    },
    {
     "data": {
      "image/png": "[encoded data removed]",
      "text/plain": [
       "<matplotlib.figure.Figure at 0x7f38df327dd8>"
      ]
     },
     "metadata": {},
     "output_type": "display_data"
    },
    {
     "name": "stdout",
     "output_type": "stream",
     "text": [
      "5.0\n",
      "5.371929285331132\n",
      "5.158490944091197\n",
      "5.913788030913576\n"
     ]
    },
    {
     "data": {
      "image/png": "[encoded data removed]",
      "text/plain": [
       "<matplotlib.figure.Figure at 0x7f38e18316d8>"
      ]
     },
     "metadata": {},
     "output_type": "display_data"
    },
    {
     "name": "stdout",
     "output_type": "stream",
     "text": [
      "5.0\n",
      "5.437879503169539\n",
      "5.2220457631312724\n",
      "5.85717000650435\n"
     ]
    },
    {
     "data": {
      "image/png": "[encoded data removed]",
      "text/plain": [
       "<matplotlib.figure.Figure at 0x7f38e183e9e8>"
      ]
     },
     "metadata": {},
     "output_type": "display_data"
    },
    {
     "name": "stdout",
     "output_type": "stream",
     "text": [
      "5.0\n",
      "5.427289743131559\n",
      "5.250852944119686\n",
      "5.9180729833841745\n"
     ]
    },
    {
     "data": {
      "image/png": "[encoded data removed]",
      "text/plain": [
       "<matplotlib.figure.Figure at 0x7f38e17849e8>"
      ]
     },
     "metadata": {},
     "output_type": "display_data"
    },
    {
     "name": "stdout",
     "output_type": "stream",
     "text": [
      "5.0\n",
      "5.354906673495636\n",
      "5.298990562668\n",
      "5.948592043468256\n"
     ]
    },
    {
     "data": {
      "image/png": "[encoded data removed]",
      "text/plain": [
       "<matplotlib.figure.Figure at 0x7f38df6c5b38>"
      ]
     },
     "metadata": {},
     "output_type": "display_data"
    },
    {
     "name": "stdout",
     "output_type": "stream",
     "text": [
      "5.0\n",
      "5.0\n",
      "5.291324625220399\n",
      "5.993066157650453\n"
     ]
    },
    {
     "data": {
      "image/png": "[encoded data removed]",
      "text/plain": [
       "<matplotlib.figure.Figure at 0x7f38df5bbc18>"
      ]
     },
     "metadata": {},
     "output_type": "display_data"
    },
    {
     "name": "stdout",
     "output_type": "stream",
     "text": [
      "5.0\n",
      "5.0\n",
      "5.324034685549888\n",
      "5.986377773683613\n"
     ]
    },
    {
     "data": {
      "image/png": "[encoded data removed]",
      "text/plain": [
       "<matplotlib.figure.Figure at 0x7f38df270c18>"
      ]
     },
     "metadata": {},
     "output_type": "display_data"
    },
    {
     "name": "stdout",
     "output_type": "stream",
     "text": [
      "5.0\n",
      "5.0\n",
      "5.226190080854377\n",
      "10.226190080854376\n"
     ]
    },
    {
     "data": {
      "image/png": "[encoded data removed]",
      "text/plain": [
       "<matplotlib.figure.Figure at 0x7f38df2cddd8>"
      ]
     },
     "metadata": {},
     "output_type": "display_data"
    },
    {
     "name": "stdout",
     "output_type": "stream",
     "text": [
      "5.0\n",
      "5.0\n",
      "6.036505815718445\n",
      "5.0\n"
     ]
    },
    {
     "data": {
      "image/png": "[encoded data removed]",
      "text/plain": [
       "<matplotlib.figure.Figure at 0x7f38df578550>"
      ]
     },
     "metadata": {},
     "output_type": "display_data"
    },
    {
     "name": "stdout",
     "output_type": "stream",
     "text": [
      "5.0\n"
     ]
    },
    {
     "ename": "ZeroDivisionError",
     "evalue": "division by zero",
     "output_type": "error",
     "traceback": [
      "\u001b[0;31m---------------------------------------------------------------------------\u001b[0m",
      "\u001b[0;31mZeroDivisionError\u001b[0m                         Traceback (most recent call last)",
      "\u001b[0;32m<ipython-input-7-354382ac2c3e>\u001b[0m in \u001b[0;36m<module>\u001b[0;34m()\u001b[0m\n\u001b[1;32m    400\u001b[0m \u001b[0;34m\u001b[0m\u001b[0m\n\u001b[1;32m    401\u001b[0m \u001b[0mworld\u001b[0m\u001b[0;34m.\u001b[0m\u001b[0mshowGrid\u001b[0m\u001b[0;34m(\u001b[0m\u001b[0;34m)\u001b[0m\u001b[0;34m\u001b[0m\u001b[0m\n\u001b[0;32m--> 402\u001b[0;31m \u001b[0mworld\u001b[0m\u001b[0;34m.\u001b[0m\u001b[0msimulation\u001b[0m\u001b[0;34m(\u001b[0m\u001b[0;34m)\u001b[0m\u001b[0;34m\u001b[0m\u001b[0m\n\u001b[0m\u001b[1;32m    403\u001b[0m \u001b[0;34m\u001b[0m\u001b[0m\n\u001b[1;32m    404\u001b[0m \u001b[0;31m# for i in range(50):\u001b[0m\u001b[0;34m\u001b[0m\u001b[0;34m\u001b[0m\u001b[0m\n",
      "\u001b[0;32m<ipython-input-7-354382ac2c3e>\u001b[0m in \u001b[0;36msimulation\u001b[0;34m(self)\u001b[0m\n\u001b[1;32m    351\u001b[0m \u001b[0;34m\u001b[0m\u001b[0m\n\u001b[1;32m    352\u001b[0m             \u001b[0;31m# kep on renewing the board\u001b[0m\u001b[0;34m\u001b[0m\u001b[0;34m\u001b[0m\u001b[0m\n\u001b[0;32m--> 353\u001b[0;31m             \u001b[0mself\u001b[0m\u001b[0;34m.\u001b[0m\u001b[0mrenew_board\u001b[0m\u001b[0;34m(\u001b[0m\u001b[0;34m)\u001b[0m\u001b[0;34m\u001b[0m\u001b[0m\n\u001b[0m\u001b[1;32m    354\u001b[0m             \u001b[0mself\u001b[0m\u001b[0;34m.\u001b[0m\u001b[0mshowGrid\u001b[0m\u001b[0;34m(\u001b[0m\u001b[0;34m)\u001b[0m\u001b[0;34m\u001b[0m\u001b[0m\n\u001b[1;32m    355\u001b[0m \u001b[0;34m\u001b[0m\u001b[0m\n",
      "\u001b[0;32m<ipython-input-7-354382ac2c3e>\u001b[0m in \u001b[0;36mrenew_board\u001b[0;34m(self)\u001b[0m\n\u001b[1;32m    307\u001b[0m                     \u001b[0;31m# Check if worker ant\u001b[0m\u001b[0;34m\u001b[0m\u001b[0;34m\u001b[0m\u001b[0m\n\u001b[1;32m    308\u001b[0m                     \u001b[0;32mif\u001b[0m \u001b[0mant\u001b[0m\u001b[0;34m.\u001b[0m\u001b[0mgetKind\u001b[0m\u001b[0;34m(\u001b[0m\u001b[0;34m)\u001b[0m \u001b[0;34m==\u001b[0m \u001b[0;34m'w'\u001b[0m\u001b[0;34m:\u001b[0m\u001b[0;34m\u001b[0m\u001b[0m\n\u001b[0;32m--> 309\u001b[0;31m                         \u001b[0mnew_cell\u001b[0m \u001b[0;34m=\u001b[0m \u001b[0mself\u001b[0m\u001b[0;34m.\u001b[0m\u001b[0mdecide_step_worker\u001b[0m\u001b[0;34m(\u001b[0m\u001b[0mant_location\u001b[0m\u001b[0;34m,\u001b[0m \u001b[0mant\u001b[0m\u001b[0;34m.\u001b[0m\u001b[0mgetOrigin\u001b[0m\u001b[0;34m(\u001b[0m\u001b[0;34m)\u001b[0m\u001b[0;34m)\u001b[0m\u001b[0;34m\u001b[0m\u001b[0m\n\u001b[0m\u001b[1;32m    310\u001b[0m                         \u001b[0mant\u001b[0m\u001b[0;34m.\u001b[0m\u001b[0maddNextStep\u001b[0m\u001b[0;34m(\u001b[0m\u001b[0mnew_cell\u001b[0m\u001b[0;34m)\u001b[0m\u001b[0;34m\u001b[0m\u001b[0m\n\u001b[1;32m    311\u001b[0m \u001b[0;34m\u001b[0m\u001b[0m\n",
      "\u001b[0;32m<ipython-input-7-354382ac2c3e>\u001b[0m in \u001b[0;36mdecide_step_worker\u001b[0;34m(self, coord, origin)\u001b[0m\n\u001b[1;32m    171\u001b[0m         \u001b[0;32mif\u001b[0m \u001b[0mpos_step\u001b[0m \u001b[0;34m==\u001b[0m \u001b[0;34m[\u001b[0m\u001b[0;34m]\u001b[0m\u001b[0;34m:\u001b[0m\u001b[0;34m\u001b[0m\u001b[0m\n\u001b[1;32m    172\u001b[0m             \u001b[0mpos_step\u001b[0m \u001b[0;34m=\u001b[0m \u001b[0mpossible_steps\u001b[0m\u001b[0;34m\u001b[0m\u001b[0m\n\u001b[0;32m--> 173\u001b[0;31m             \u001b[0mprob_value\u001b[0m \u001b[0;34m=\u001b[0m \u001b[0;36m1\u001b[0m\u001b[0;34m/\u001b[0m\u001b[0mlen\u001b[0m\u001b[0;34m(\u001b[0m\u001b[0mpossible_steps\u001b[0m\u001b[0;34m)\u001b[0m\u001b[0;34m\u001b[0m\u001b[0m\n\u001b[0m\u001b[1;32m    174\u001b[0m             \u001b[0mprobability_distribution\u001b[0m \u001b[0;34m=\u001b[0m \u001b[0;34m[\u001b[0m\u001b[0mprob_value\u001b[0m\u001b[0;34m]\u001b[0m\u001b[0;34m*\u001b[0m\u001b[0mlen\u001b[0m\u001b[0;34m(\u001b[0m\u001b[0mpossible_steps\u001b[0m\u001b[0;34m)\u001b[0m\u001b[0;34m\u001b[0m\u001b[0m\n\u001b[1;32m    175\u001b[0m \u001b[0;34m\u001b[0m\u001b[0m\n",
      "\u001b[0;31mZeroDivisionError\u001b[0m: division by zero"
     ]
    }
   ],
   "source": [
    "class Grid:\n",
    "    \n",
    "    # para([Grid size, pheromone strength, pheromone fade, n_search, n_work])\n",
    "    def __init__(self, para):\n",
    "        # Create board of specifc board size \n",
    "        self.grid = np.zeros((para[0], para[0]), dtype=float)\n",
    "        \n",
    "        self.grid_no_ants = self.grid\n",
    "        self.grid_size = para[0]\n",
    "        self.nest_value = 25\n",
    "        self.food_source_value = 1000\n",
    "        self.ant_value = 5\n",
    "        self.pheromone_strength = para[1]\n",
    "        self.pheromone_fade = para[2]\n",
    "        self.n_search = para[3]\n",
    "        self.n_work = para[4]\n",
    "        \n",
    "        self.ants = []\n",
    "        \n",
    "        self.nest_location = None\n",
    "        self.food_location = {}\n",
    "        self.total_cost = 0\n",
    "        self.cost_per_step = 0.1\n",
    "        self.return_1 = False\n",
    "        self.total_found_food_value = 0\n",
    "        self.found_food_sources = []\n",
    "        self.return_reward = 1\n",
    "        self.food_reward = 2*self.cost_per_step * (para[0]-1) +1\n",
    "        self.return_reward = 0\n",
    "        \n",
    "\n",
    "    # Get neighbour xy coordinates as tuple  \n",
    "    def check_neighbours(self, coord, grid_size):\n",
    "        # Initalize variables\n",
    "        neighbours = []\n",
    "\n",
    "        # List of relative position for all possible neighbours of a coordinate\n",
    "        adj = [(-1, 1), (0, 1), (1, 1), (-1, 0), (1, 0), (-1, -1), (0,-1), (1,-1)]\n",
    "\n",
    "        # Create list of all possible nieghbours\n",
    "        for n in adj:\n",
    "            neighbours.append(tuple(np.subtract(coord, n)))\n",
    "\n",
    "        # In case of corners and edge pieces: find all neighbours that exist but are not valid for the specific \n",
    "        # board\n",
    "        neigh = []\n",
    "        for n_tup in neighbours:\n",
    "            if n_tup[0] < 0 or n_tup[1] < 0:\n",
    "                neigh.append(n_tup)\n",
    "            elif n_tup[0] >= grid_size or n_tup[1] >= grid_size:\n",
    "                neigh.append(n_tup)\n",
    "\n",
    "        # Remove the found none valid neighbours \n",
    "        for i in neigh:\n",
    "            neighbours.remove(i)\n",
    "\n",
    "        # Return list of neighbours as tuple\n",
    "        return neighbours\n",
    "\n",
    "    # change value at specific cell, returns new grid\n",
    "    def change_cell_value(self, coord, new_value):\n",
    "        self.grid[int(coord[1])][int(coord[0])] = new_value\n",
    "        return self.grid\n",
    "    \n",
    "    def get_ants(self):\n",
    "        return self.ants\n",
    "    \n",
    "    # return which value a cell has\n",
    "    def get_kind(self, coord):\n",
    "        x = int(coord[0])\n",
    "        y = int(coord[1])\n",
    "        return self.grid[y, x]\n",
    "    \n",
    "    # returns the distance between a coordinate and the ants its origin\n",
    "    def origin_distance(self, coord, origin):\n",
    "        val = np.square(coord[0]-origin[0])+np.square(coord[1]-origin[1])\n",
    "        return np.sqrt(val)\n",
    "    \n",
    "    # sets the new value of a cell\n",
    "    def setKind(self, coord, value):\n",
    "        x = int(coord[0])\n",
    "        y = int(coord[1])\n",
    "        if value is not 5 and value is not 25 and value < 100:\n",
    "            return \"Invalid value\"\n",
    "        self.grid[y, x] = value\n",
    "        \n",
    "    def setNestLocation(self, coord):\n",
    "        x = int(coord[0])\n",
    "        y = int(coord[1])\n",
    "        self.nest_location = (x,y)\n",
    "        self.setKind(coord, self.nest_value)\n",
    "\n",
    "    def setFoodSource(self, coord, amtFood):\n",
    "        x = int(coord[0])\n",
    "        y = int(coord[1])\n",
    "        self.setKind(coord, self.food_source_value)\n",
    "        self.food_location[coord] = amtFood\n",
    "\n",
    "    def addPheromone(self, coord):\n",
    "        x = int(coord[0])\n",
    "        y = int(coord[1])\n",
    "        if coord not in self.food_location.keys() and coord != self.nest_location:\n",
    "            if self.grid_no_ants[y,x] >= 1:\n",
    "                self.grid[y,x] = 1\n",
    "                self.grid_no_ants[y, x] = 1\n",
    "            else:\n",
    "                self.grid[y, x] += self.pheromone_strength\n",
    "                self.grid_no_ants[y, x] += self.pheromone_strength\n",
    "                \n",
    "\n",
    "    def pheromoneFade(self, coord):\n",
    "        # The cell must already have pheromones\n",
    "        x = int(coord[0])\n",
    "        y = int(coord[1])\n",
    "        \n",
    "        surroundPhero = 0\n",
    "        \n",
    "        # get the values of the neighbour cells, if they are only pheromones, add them to surrounding pheromones\n",
    "        for i in self.check_neighbours(coord, self.grid_size):\n",
    "            if 0 <= self.get_kind(i) <= 1:\n",
    "                surroundPhero += self.get_kind(i) \n",
    "    \n",
    "        #reaction-diffusion-type simulation (Moore neighbours)\n",
    "        new_value = self.get_kind(coord) * (1 - 8*self.pheromone_fade) + self.pheromone_fade*surroundPhero\n",
    "\n",
    "        self.grid[y, x] = new_value\n",
    "        self.grid_no_ants[y, x] = new_value    \n",
    "        \n",
    "        if self.get_kind(coord) <= 0:\n",
    "            self.grid[y,x] = 0\n",
    "            self.grid[y,x] = 0\n",
    "\n",
    "    def retrieveFood(self, coord):\n",
    "        # The cell must be of the kind food source\n",
    "        x = int(coord[0])\n",
    "        y = int(coord[1])\n",
    "        self.grid[y, x] -= self.food_value;\n",
    "    \n",
    "        \n",
    "    def possible_steps_list(self, coord, origin):\n",
    "        pn = self.check_neighbours(coord, self.grid_size)\n",
    "        dist = self.origin_distance(coord, origin)\n",
    "        \n",
    "        best_neigh = []\n",
    "        for n in pn:\n",
    "            distance = self.origin_distance(n, origin)\n",
    "            if distance > dist:\n",
    "                best_neigh.append(n)\n",
    "        \n",
    "        return best_neigh\n",
    "        \n",
    "    def decide_step_worker(self, coord, origin):\n",
    "        possible_steps = self.possible_steps_list(coord, origin)\n",
    "        pos_step = []\n",
    "        pos_step_sum = 0\n",
    "        \n",
    "        for p in possible_steps:\n",
    "            if 0 < self.get_kind(p) <= 1:\n",
    "                pos_step.append(p)\n",
    "                pos_step_sum += self.get_kind(p)\n",
    "                \n",
    "        probability_distribution = []\n",
    "        \n",
    "        for pos in pos_step:\n",
    "            self.get_kind(pos)\n",
    "            probability_distribution.append(self.get_kind(pos)/pos_step_sum)\n",
    "        \n",
    "        if pos_step == []:\n",
    "            pos_step = possible_steps\n",
    "            prob_value = 1/len(possible_steps)\n",
    "            probability_distribution = [prob_value]*len(possible_steps)\n",
    "        \n",
    "        [index] = choice(range(len(pos_step)), 1, p=probability_distribution)\n",
    "\n",
    "        return pos_step[index]\n",
    "    \n",
    "    def decide_step_search(self, coord, origin):\n",
    "        possible_steps = self.check_neighbours(coord, self.grid_size)\n",
    "        \n",
    "        pos_step = []\n",
    "        for p in possible_steps:\n",
    "            if p in self.food_location.keys():\n",
    "                return p\n",
    "            if self.get_kind(p) == 0 or self.ant_value < self.get_kind(p) < self.ant_value+self.pheromone_strength:\n",
    "                pos_step.append(p)\n",
    "        \n",
    "        if pos_step == []:\n",
    "            pos_step = possible_steps\n",
    "\n",
    "        return random.choice(pos_step)\n",
    "        \n",
    "    # adds onse work ant        \n",
    "    def add_work_ant(self):\n",
    "        nest = self.nest_location\n",
    "        ant = Ant('w', nest)\n",
    "        self.ants.append(ant)\n",
    "    \n",
    "    # adds one search ant\n",
    "    def add_search_ant(self):\n",
    "        nest = self.nest_location\n",
    "        ant = Ant('s', nest)\n",
    "        self.ants.append(ant)\n",
    "        \n",
    "    def add_food_location(self, coord, amount):\n",
    "        self.food_location[coord] = amount\n",
    "        self.grid[int(coord[1]), int(coord[0])] += self.food_source_value\n",
    "\n",
    "        \n",
    "    def return_of_ant(self, ant):\n",
    "        if ant.getKind() == 's':\n",
    "\n",
    "            if not self.return_1:\n",
    "                self.return_1 = True\n",
    "\n",
    "            found_food_source = ant.getOrigin()\n",
    "            if found_food_source not in self.found_food_sources:\n",
    "                self.found_food_sources.append(found_food_source)\n",
    "                self.total_found_food_value += self.food_location[found_food_source]\n",
    "        print(self.ants)\n",
    "        self.ants.remove(ant)\n",
    "        print(self.ants)\n",
    "\n",
    "                    \n",
    "    # release of the ants\n",
    "    def release_ant(self, type_ant):\n",
    "        if type_ant == 's':\n",
    "            self.n_search -= 1\n",
    "            self.add_search_ant()\n",
    "            \n",
    "        elif type_ant == 'w':\n",
    "            self.n_work -= 1\n",
    "            self.add_work_ant()\n",
    "        \n",
    "\n",
    "                        \n",
    "\n",
    "    # update board\n",
    "    # First, we update the pheromone values when they fade each step. This is done for both the grid\n",
    "    # with and the grid without ants.\n",
    "    # Then, we remove the old ants by setting the grid equal to the grid_no_ants\n",
    "    # Then we add the ants on their new locations, by first determining the location of an ant after it sets\n",
    "    # a step, and then setting this location of the grid to ant_value\n",
    "    def renew_board(self):\n",
    "                \n",
    "        self.grid = copy.deepcopy(self.grid_no_ants)\n",
    "        \n",
    "        for i in range(len(self.grid_no_ants)):\n",
    "            for j in range(len(self.grid_no_ants)):\n",
    "                curr_cell = (i,j)\n",
    "                cell_value = self.grid_no_ants[j,i]\n",
    "                \n",
    "                # If cell is empty\n",
    "                if cell_value == 0:\n",
    "                    continue\n",
    "      \n",
    "                # If cell is empty but contains a pheromone (hier gaat het goed met nest_value)\n",
    "                if 0 < cell_value <= 1:\n",
    "                    self.pheromoneFade(curr_cell)\n",
    "\n",
    "        \n",
    "        # Determine the new location of each ant and set this new location on the board to ant_value\n",
    "        ants_copy = self.ants\n",
    "        for ant in ants_copy:\n",
    "            \n",
    "            # Add pheromone on the current location before the ants sets a step\n",
    "            ant_location = ant.getLocation()\n",
    "            self.addPheromone(ant_location)\n",
    "            \n",
    "            # If the ant has no next steps in its queue, decide which next step it should take\n",
    "            if ant.noNextSteps():\n",
    "                \n",
    "                # Ant is on food source\n",
    "                if ant_location in self.food_location.keys():\n",
    "                    ant.changeOrigin(ant_location)\n",
    "                    self.total_cost -= self.food_reward\n",
    "                    self.food_location[ant_location] =  self.food_location[ant_location] - 1\n",
    "                    \n",
    "                    # Check if search ant\n",
    "                    if ant.getKind() == 's':\n",
    "                        ant.findShortestPath(self.nest_location, ant.getOrigin())\n",
    "                    \n",
    "                    # Check if worker ant\n",
    "                    if ant.getKind() == 'w':\n",
    "                        new_cell = self.decide_step_worker(ant_location, ant.getOrigin())\n",
    "                        ant.addNextStep(new_cell)\n",
    "                \n",
    "                # Ant is on nest\n",
    "                elif ant_location == self.nest_location:\n",
    "                    if ant.getKind() == 's' and ant.getOrigin() == self.nest_location:\n",
    "                        new_cell = self.decide_step_search(ant_location, ant.getOrigin())\n",
    "                        ant.addNextStep(new_cell)\n",
    "\n",
    "                    if ant.getKind() == 'w'and ant.getOrigin() == self.nest_location:\n",
    "                        new_cell = self.decide_step_worker(ant_location, ant.getOrigin())\n",
    "                        ant.addNextStep(new_cell)\n",
    "                  \n",
    "                # Ant is somewhere on the board that is not a nest or food source\n",
    "                else:\n",
    "                    # Check if search ant\n",
    "                    if ant.getKind() == 's':\n",
    "                        new_cell = self.decide_step_search(ant_location, ant.getOrigin())\n",
    "                        ant.addNextStep(new_cell)\n",
    "                            \n",
    "                    # Check if worker ant\n",
    "                    if ant.getKind() == 'w':\n",
    "                        new_cell = self.decide_step_worker(ant_location, ant.getOrigin())\n",
    "                        ant.addNextStep(new_cell)\n",
    "\n",
    "            ant.setStep()\n",
    "            self.total_cost += self.cost_per_step\n",
    "            new_location = ant.getLocation()\n",
    "            \n",
    "            # If after the step the ant is back at the nest location, \n",
    "            # the ant has done its job and can be removed\n",
    "            if new_location == self.nest_location and ant.getOrigin() != self.nest_location:\n",
    "                self.total_cost -= self.return_reward\n",
    "                self.return_1 = True\n",
    "                self.return_of_ant(ant)\n",
    "                continue\n",
    "                \n",
    "            x_new_loc = int(new_location[0])\n",
    "            y_new_loc = int(new_location[1])\n",
    "            \n",
    "            \n",
    "            self.grid[y_new_loc, x_new_loc] += self.ant_value\n",
    "            print(self.grid[y_new_loc, x_new_loc])\n",
    "            \n",
    "    # this is the simulation function where the complete sotry of the\n",
    "    def simulation(self):\n",
    "        \n",
    "        while self.n_search != 0:\n",
    "            self.release_ant('s')\n",
    "            self.renew_board()\n",
    "            self.showGrid()\n",
    "            \n",
    "        \n",
    "        # if no search ant has returned, just keep updating the board\n",
    "        while self.return_1 == False: \n",
    "            self.renew_board()\n",
    "            self.showGrid()\n",
    "            \n",
    "            \n",
    "        while self.total_found_food_value != 0:\n",
    "            while self.n_work != 0:\n",
    "                self.release_ant('w')\n",
    "                self.renew_board()\n",
    "                self.showGrid()\n",
    "\n",
    "            # kep on renewing the board \n",
    "            self.renew_board()\n",
    "            self.showGrid()\n",
    "                \n",
    "    def showGrid(self):\n",
    "        # Amount of different colors for pheromones\n",
    "        pheromone_amount = 80\n",
    "        \n",
    "        # Blue gradient for pheromones: the darker the blue, the more pheromones\n",
    "        pher_colors = cm.Blues(np.linspace(0, 1.1, num=pheromone_amount)).tolist()\n",
    "        pher_bounds = np.linspace(0,1.1,num=pheromone_amount+1).tolist()\n",
    "        \n",
    "        # Other color: nothing, ant, nest and food source\n",
    "        other_colors = ['white', 'black', 'white', 'peru', 'white', 'forestgreen']\n",
    "        \n",
    "        # Boundaries for the values of the other colors\n",
    "        other_bounds = [1.00001, self.ant_value - 0.001, 6.00001, self.nest_value - 0.001, self.nest_value + 0.01, 99.99999, 100.0]\n",
    "        total_colors = sum([pher_colors, other_colors], [])\n",
    "        total_bounds = sum([pher_bounds, other_bounds], [])\n",
    "        \n",
    "        # If the value is 0, the cell is white\n",
    "        total_colors[0] = 'white'\n",
    "        \n",
    "        # Create a cmap of all the colors\n",
    "        cmap = mpl.colors.ListedColormap(total_colors)\n",
    "        norm = mpl.colors.BoundaryNorm(total_bounds, cmap.N)\n",
    "        img = plt.imshow(self.grid,interpolation='nearest', cmap=cmap, norm=norm)\n",
    "        \n",
    "        ax = plt.gca()\n",
    "        \n",
    "        # Minor ticks\n",
    "        ax.set_xticks(np.arange(-.5, self.grid_size, 1), minor=True);\n",
    "        ax.set_yticks(np.arange(-.5, self.grid_size, 1), minor=True);\n",
    "\n",
    "        # Gridlines based on minor ticks\n",
    "        ax.grid(which='minor', color='black', linestyle='-', linewidth=0.3)\n",
    "        \n",
    "        plt.xticks([], [])\n",
    "        plt.yticks([], [])\n",
    "        plt.show()\n",
    "\n",
    "        \n",
    "\n",
    "world = Grid([10, 0.7, 0.01, 2, 3])\n",
    "world.setNestLocation((9,3))\n",
    "world.setFoodSource((2,1), 20)\n",
    "\n",
    "# world.simulation()\n",
    "\n",
    "world.showGrid()\n",
    "world.simulation()\n",
    "\n",
    "# for i in range(50):\n",
    "#     world.renew_board()\n",
    "#     #print(world.grid)\n",
    "#     world.showGrid()\n",
    "\n",
    "world.showGrid()"
   ]
  },
  {
   "cell_type": "code",
   "execution_count": null,
   "metadata": {
    "collapsed": true
   },
   "outputs": [],
   "source": [
    "class Simulation:\n",
    "    \n",
    "    def __init__(self, para):\n",
    "        self.grid = para[0]\n",
    "        self.ant_value = para[1]\n",
    "        self.nest_value = para[2]\n",
    "        self.food_source_value = para[3]\n",
    "        \n",
    "    \n",
    "    def showGrid(self):\n",
    "        # Amount of different colors for pheromones\n",
    "        pheromone_amount = 80\n",
    "        \n",
    "        # Blue gradient for pheromones: the darker the blue, the more pheromones\n",
    "        pher_colors = cm.Blues(np.linspace(0, 1.0001, num=pheromone_amount)).tolist()\n",
    "        pher_bounds = np.linspace(0,1.0001,num=pheromone_amount+1).tolist()\n",
    "        \n",
    "        # Other color: nothing, ant, nest and food source\n",
    "        other_colors = ['white', 'black', 'white', 'peru', 'white', 'forestgreen']\n",
    "        \n",
    "        # Boundaries for the values of the other colors\n",
    "        other_bounds = [1.00001, self.ant_value, 6.00001, 9.99999, self.nest_value + 0.01, 99.99999, 100.0]\n",
    "        total_colors = sum([pher_colors, other_colors], [])\n",
    "        total_bounds = sum([pher_bounds, other_bounds], [])\n",
    "        \n",
    "        # If the value is 0, the cell is white\n",
    "        total_colors[0] = 'white'\n",
    "        \n",
    "        # Create a cmap of all the colors\n",
    "        cmap = mpl.colors.ListedColormap(total_colors)\n",
    "        norm = mpl.colors.BoundaryNorm(total_bounds, cmap.N)\n",
    "        \n",
    "        img = plt.imshow(self.grid,interpolation='nearest', cmap=cmap, norm=norm)\n",
    "        img.set_array(img)\n",
    "        return img,\n",
    "\n",
    "    \n",
    "    # This is the animation function for the grids\n",
    "    def animation(self):\n",
    "        fig = plt.figure()\n",
    "        plt.axis('off')\n",
    "        ants = mpatches.Patch(color='black', label='Ants')\n",
    "        nest = mpatches.Patch(color='peru', label='Nest')\n",
    "        food = mpatches.Patch(color='forestgreen', label='Food source')\n",
    "        phero = mpatches.Patch(color='blue', label='Gradient of pheromone')\n",
    "        plt.legend(handles=[ants, nest, food, phero])\n",
    "        \n",
    "        animat = animation.FuncAnimation(fig, self.showGrid(), \n",
    "                                   save_count = self.grid.shape[2], \n",
    "                                   interval=50, blit=False)\n",
    "        \n",
    "        plt.show()"
   ]
  },
  {
   "cell_type": "code",
   "execution_count": null,
   "metadata": {},
   "outputs": [],
   "source": [
    "# main function\n",
    "\n",
    "# eerst initialize board with search ants\n",
    "# dan zodra  1 search ant terug is : worker ants\n",
    "# dit herhalen totdat de foodstack leeg is!\n",
    "# in elke stap moet de visualisatie plaatsvinden\n",
    "\n",
    "#  while self.food_source_value != 0:\n",
    "#             for i in self.n_search:\n",
    "#                 init_step = decide_step_search(self.nest_location, self.nest_location)\n",
    "#                 ant_set_step(self.nest_location, init_step)\n",
    "#                 renew_board()\n",
    "#                 self.add_search_ant()\n",
    "#                 self.renew_board()\n",
    "#                 self.showGrid()\n",
    "#             # if food location is nog niet gevonde\n",
    "            \n",
    "#             # if food location is gevonden & search ants zijn terug\n",
    "            \n",
    "#             if\n",
    "#             self.renew_board()\n",
    "#             self.showGrid(\n",
    "   \n",
    "    \n",
    "    '''def animation(self):\n",
    "        # get grid\n",
    "        showGrid()\n",
    "        \n",
    "        im.set_array(showGrid())\n",
    "        \n",
    "        grid_ani = animation.FuncAnimation(fig, im, \n",
    "                                   save_count = antGrids.shape[2], \n",
    "                                   interval=50, blit=False)\n",
    "        plt.axis('off')\n",
    "        plt.show()\n",
    "        \n",
    "        grid_ani.save('AntsColor.mp4', writer=writer)\n",
    "\n",
    "        HTML(grid_ani.to_html5_video())'''\n",
    "    \n",
    "def main():\n",
    "    while FOOD_SOURCE_VALUE != 0:\n",
    "        for i in N_SEARCH:\n",
    "            N_SEARCH -= 1\n",
    "            Grid([GRID_SIZE, PHEROMONE_STRENGTH, PHEROMONE_FADE])\n",
    "            Simulation([])\n",
    "        Grid([GRID_SIZE, PHEROMONE_STRENGTH, PHEROMONE_FADE]) \n",
    "        \n",
    "    \n",
    "    \n",
    "Writer = animation.writers['ffmpeg']\n",
    "writer = Writer(fps=15, metadata=dict(artist='Me'), bitrate=1800)\n",
    "        \n",
    "grid_ani.save('AntsColor.mp4', writer=writer)\n",
    "\n",
    "HTML(grid_ani.to_html5_video())\n"
   ]
  },
  {
   "cell_type": "code",
   "execution_count": null,
   "metadata": {
    "collapsed": true
   },
   "outputs": [],
   "source": []
  }
 ],
 "metadata": {
  "kernelspec": {
   "display_name": "Python 3",
   "language": "python",
   "name": "python3"
  },
  "language_info": {
   "codemirror_mode": {
    "name": "ipython",
    "version": 3
   },
   "file_extension": ".py",
   "mimetype": "text/x-python",
   "name": "python",
   "nbconvert_exporter": "python",
   "pygments_lexer": "ipython3",
   "version": "3.6.3"
  }
 },
 "nbformat": 4,
 "nbformat_minor": 2
}
