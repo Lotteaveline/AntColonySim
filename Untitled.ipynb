{
 "cells": [
  {
   "cell_type": "code",
   "execution_count": null,
   "metadata": {},
   "outputs": [],
   "source": [
    "import numpy as np\n",
    "\n",
    "def routeBack(coord, origin):\n",
    "    x = coord[0]\n",
    "    y = coord[1]\n",
    "\n",
    "    x_ant = x\n",
    "    y_ant = y\n",
    "\n",
    "    x_orig = origin[0]\n",
    "    y_orig = origin[1]\n",
    "    \n",
    "    nest_location = (0,0)\n",
    "\n",
    "    # Three possibilities: ant is on the same x or y coordinate, in which case it\n",
    "    # can walk back in a straight line.\n",
    "    # Or the x-distance is the same as the y-distance, in whcih case the ant can \n",
    "    # walk back in diagonal line.\n",
    "    # Else, the ant should walk back in a partly diagonal, partly straight line.\n",
    "\n",
    "    dx = x - x_orig\n",
    "    dy = y - y_orig\n",
    "    \n",
    "    route_back_list = []\n",
    "\n",
    "    while x != nest_location[0] or y != nest_location[1]: \n",
    "        if x == x_orig:\n",
    "            y_ant = y - 1\n",
    "            route_back_list.append((x, y_ant))\n",
    "            y = y_ant\n",
    "            continue\n",
    "\n",
    "        if y == y_orig:\n",
    "            x_ant = x - 1\n",
    "            route_back_list.append((x_ant, y))\n",
    "            x = x_ant\n",
    "            continue\n",
    "\n",
    "        if np.abs(dx) == np.abs(dy) and np.abs(dx):\n",
    "            x_ant = x - 1\n",
    "            y_ant = y - 1\n",
    "            route_back_list.append((x_ant, y_ant))\n",
    "            x = x_ant\n",
    "            y = y_ant\n",
    "            continue\n",
    "\n",
    "        else:\n",
    "            x_ant = x - 1\n",
    "            y_ant = y - 1\n",
    "            route_back_list.append((x_ant, y_ant))\n",
    "            x = x_ant\n",
    "            y = y_ant\n",
    "\n",
    "    return route_back_list\n",
    "\n",
    "print(routeBack((1,4), (5,2)))\n"
   ]
  },
  {
   "cell_type": "code",
   "execution_count": null,
   "metadata": {},
   "outputs": [],
   "source": []
  }
 ],
 "metadata": {
  "kernelspec": {
   "display_name": "Python 3",
   "language": "python",
   "name": "python3"
  },
  "language_info": {
   "codemirror_mode": {
    "name": "ipython",
    "version": 3
   },
   "file_extension": ".py",
   "mimetype": "text/x-python",
   "name": "python",
   "nbconvert_exporter": "python",
   "pygments_lexer": "ipython3",
   "version": "3.7.4"
  }
 },
 "nbformat": 4,
 "nbformat_minor": 2
}
